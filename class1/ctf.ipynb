{
 "metadata": {
  "name": "ctf"
 },
 "nbformat": 3,
 "nbformat_minor": 0,
 "worksheets": [
  {
   "cells": [
    {
     "cell_type": "code",
     "collapsed": false,
     "input": [
      "import hashlib"
     ],
     "language": "python",
     "metadata": {},
     "outputs": [],
     "prompt_number": 1
    },
    {
     "cell_type": "code",
     "collapsed": false,
     "input": [
      "f=file('findtheflag.txt', 'r')"
     ],
     "language": "python",
     "metadata": {},
     "outputs": [],
     "prompt_number": 2
    },
    {
     "cell_type": "code",
     "collapsed": false,
     "input": [
      "text = [flag.strip() for flag in f]"
     ],
     "language": "python",
     "metadata": {},
     "outputs": [],
     "prompt_number": 3
    },
    {
     "cell_type": "code",
     "collapsed": false,
     "input": [
      "text[0]"
     ],
     "language": "python",
     "metadata": {},
     "outputs": [],
     "prompt_number": 4
    },
    {
     "cell_type": "code",
     "collapsed": false,
     "input": [
      "for t in text:\n",
      "    guess = hashlib.sha512('flag{prof.ninja}').hexdigest()\n",
      "    if(guess == t)"
     ],
     "language": "python",
     "metadata": {},
     "outputs": [],
     "prompt_number": 5
    },
    {
     "cell_type": "code",
     "collapsed": false,
     "input": [
      "for t in text:\n",
      "    guess = hashlib.sha512('flag{prof.ninja}').hexdigest()\n",
      "    if(guess == t):\n",
      "        print(\"you go it\")\n",
      "        "
     ],
     "language": "python",
     "metadata": {},
     "outputs": [],
     "prompt_number": 6
    },
    {
     "cell_type": "code",
     "collapsed": false,
     "input": [
      "def checkString(input):\n",
      "    for t in text:\n",
      "        guess256 = hashlib.sha256(input).hexdigest()\n",
      "        guess512 = hashlib.sha512(input).hexgidest()\n",
      "        if(guess256 == t):\n",
      "            print(sha256 on this string worked\")\n",
      "        if(guess512 == t):\n",
      "            print(\"sha512 on this string worked\")\n",
      "            "
     ],
     "language": "python",
     "metadata": {},
     "outputs": [],
     "prompt_number": 7
    },
    {
     "cell_type": "code",
     "collapsed": false,
     "input": [
      "def checkString(input):\n",
      "    for t in text:\n",
      "        guess256 = hashlib.sha256(input).hexdigest()\n",
      "        guess512 = hashlib.sha512(input).hexgidest()\n",
      "        if(guess256 == t):\n",
      "            print(\"sha256 on this string worked\")\n",
      "        if(guess512 == t):\n",
      "            print(\"sha512 on this string worked\")\n",
      "            "
     ],
     "language": "python",
     "metadata": {},
     "outputs": [],
     "prompt_number": 8
    },
    {
     "cell_type": "code",
     "collapsed": false,
     "input": [
      "checkString(\"flag{cyrpto.prof.ninja}\")"
     ],
     "language": "python",
     "metadata": {},
     "outputs": [],
     "prompt_number": 9
    },
    {
     "cell_type": "code",
     "collapsed": false,
     "input": [
      "def checkString(input):\n",
      "    for t in text:\n",
      "        guess256 = hashlib.sha256(input).hexdigest()\n",
      "        guess512 = hashlib.sha512(input).hexdigest()\n",
      "        if(guess256 == t):\n",
      "            print(\"sha256 on this string worked\")\n",
      "        if(guess512 == t):\n",
      "            print(\"sha512 on this string worked\")\n",
      "            "
     ],
     "language": "python",
     "metadata": {},
     "outputs": [],
     "prompt_number": 10
    },
    {
     "cell_type": "code",
     "collapsed": false,
     "input": [
      "checkString(\"flag{cyrpto.prof.ninja}\")"
     ],
     "language": "python",
     "metadata": {},
     "outputs": [],
     "prompt_number": 11
    },
    {
     "cell_type": "code",
     "collapsed": false,
     "input": [
      "checkString(\"flag{cyrpto.prof.ninja/class1}\")"
     ],
     "language": "python",
     "metadata": {},
     "outputs": [],
     "prompt_number": 12
    },
    {
     "cell_type": "code",
     "collapsed": false,
     "input": [
      "checkString(\"flag{randomString}\")"
     ],
     "language": "python",
     "metadata": {},
     "outputs": [],
     "prompt_number": 13
    },
    {
     "cell_type": "code",
     "collapsed": false,
     "input": [
      "def checkString(input):\n",
      "    for t in text:\n",
      "        guess256 = hashlib.sha256(input).hexdigest()\n",
      "        guess512 = hashlib.sha512(input).hexdigest()\n",
      "        if(guess256 == t):\n",
      "            print(\"sha256 on this string worked\")\n",
      "        if(guess512 == t):\n",
      "            print(\"sha512 on this string worked\")\n",
      "            "
     ],
     "language": "python",
     "metadata": {},
     "outputs": [],
     "prompt_number": 14
    },
    {
     "cell_type": "code",
     "collapsed": false,
     "input": [
      "def checkString(input):\n",
      "    for t in text:\n",
      "        guess256 = hashlib.sha256(input).hexdigest()\n",
      "        guess512 = hashlib.sha512(input).hexdigest()\n",
      "        print(guess256)\n",
      "        print(guess512)\n",
      "        if(guess256 == t):\n",
      "            print(\"sha256 on this string worked\")\n",
      "        if(guess512 == t):\n",
      "            print(\"sha512 on this string worked\")\n",
      "            "
     ],
     "language": "python",
     "metadata": {},
     "outputs": [],
     "prompt_number": 15
    },
    {
     "cell_type": "code",
     "collapsed": false,
     "input": [
      "checkString(\"flag{randomString}\")"
     ],
     "language": "python",
     "metadata": {},
     "outputs": [],
     "prompt_number": 16
    },
    {
     "cell_type": "code",
     "collapsed": false,
     "input": [
      "def checkString(input):\n",
      "    for t in text:\n",
      "        guess256 = hashlib.sha256(input).hexdigest()\n",
      "        guess512 = hashlib.sha512(input).hexdigest()\n",
      "        print(guess256)\n",
      "        print(guess512)\n",
      "        if(guess256 == t):\n",
      "            print(\"sha256 on this string worked\")\n",
      "        if(guess512 == t):\n",
      "            print(\"sha512 on this string worked\")\n",
      "            "
     ],
     "language": "python",
     "metadata": {},
     "outputs": [],
     "prompt_number": 17
    },
    {
     "cell_type": "code",
     "collapsed": false,
     "input": [
      "def checkString(input):\n",
      "    for t in text:\n",
      "        guess256 = hashlib.sha256(input).hexdigest()\n",
      "        guess512 = hashlib.sha512(input).hexdigest()\n",
      "        if(guess256 == t):\n",
      "            print(\"sha256 on this string worked\")\n",
      "        if(guess512 == t):\n",
      "            print(\"sha512 on this string worked\")\n",
      "    print(guess256)   \n",
      "    print(guess512)\n",
      "    "
     ],
     "language": "python",
     "metadata": {},
     "outputs": [],
     "prompt_number": 18
    },
    {
     "cell_type": "code",
     "collapsed": false,
     "input": [
      "checkString(\"flag{randomString}\")"
     ],
     "language": "python",
     "metadata": {},
     "outputs": [],
     "prompt_number": 19
    },
    {
     "cell_type": "code",
     "collapsed": false,
     "input": [
      "checkString(\"flag{randomString}\")"
     ],
     "language": "python",
     "metadata": {},
     "outputs": [],
     "prompt_number": 20
    },
    {
     "cell_type": "code",
     "collapsed": false,
     "input": [
      "hashlib.sha256(\"fuck\").hexdigest()"
     ],
     "language": "python",
     "metadata": {},
     "outputs": [],
     "prompt_number": 21
    }
   ],
   "metadata": {}
  }
 ]
}